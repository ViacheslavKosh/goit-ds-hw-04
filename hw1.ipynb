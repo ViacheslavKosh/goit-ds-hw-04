{
 "cells": [
  {
   "cell_type": "markdown",
   "metadata": {},
   "source": [
    "ЗАВДАННЯ 1"
   ]
  },
  {
   "cell_type": "code",
   "execution_count": 2,
   "metadata": {},
   "outputs": [
    {
     "name": "stdout",
     "output_type": "stream",
     "text": [
      "[0. 1. 2. 3. 4. 5. 6. 7. 8. 9.]\n",
      "[ 0.  1.  2.  3.  4.  5.  6.  7.  8.  9. 10.]\n"
     ]
    }
   ],
   "source": [
    "import numpy as np\n",
    "\n",
    "# Одновимірний масив з першими 10-ма натуральними числами\n",
    "vector_1 = np.array([0, 1, 2, 3, 4, 5, 6, 7, 8, 9], dtype=float)\n",
    "vector_2 = np.arange(11, dtype=float)\n",
    "print(vector_1)\n",
    "print(vector_2)"
   ]
  },
  {
   "cell_type": "code",
   "execution_count": null,
   "metadata": {},
   "outputs": [],
   "source": [
    "# Lвовимірний масив (матрицю) розміром 3x3, заповнений нулями.\n",
    "zero_matrix_1 = np.array([[0, 0, 0], [0, 0, 0], [0, 0, 0]], dtype=int)\n",
    "zero_matrix_2 = np.zeros((3, 3), dtype=int)\n",
    "print(zero_matrix_1)\n",
    "print(zero_matrix_2)"
   ]
  },
  {
   "cell_type": "code",
   "execution_count": null,
   "metadata": {},
   "outputs": [],
   "source": [
    "# Масив розміром 5x5, з випадковими цілими числами в діапазоні від 1 до 10\n",
    "random_matrix_5x5 = np.random.randint(1, 11, size=(5, 5))\n",
    "\n",
    "print(random_matrix_5x5)"
   ]
  },
  {
   "cell_type": "code",
   "execution_count": null,
   "metadata": {},
   "outputs": [],
   "source": [
    "# Масив розміром 4x4, з випадковими дійсними числами в діапазоні від 0 до 1\n",
    "random_matrix_4x4 = np.random.randint(0, 2, size=(4, 4))\n",
    "\n",
    "print(random_matrix_4x4)"
   ]
  },
  {
   "cell_type": "code",
   "execution_count": null,
   "metadata": {},
   "outputs": [],
   "source": [
    "# Два одновимірні масиви розміром 5, заповнені випадковими цілими числами\n",
    "a = np.random.randint(1, 11, 5)\n",
    "b = np.random.randint(1, 11, 5)\n",
    "\n",
    "# Поелементні операції\n",
    "sum_array = a + b\n",
    "diff_array = a - b\n",
    "multipli_array = a * b\n",
    "\n",
    "print(a)\n",
    "print(b)\n",
    "print(f\"Sum: {sum_array}\")\n",
    "print(f\"Difference: {diff_array}\")\n",
    "print(f\"Multipli: {multipli_array}\")"
   ]
  },
  {
   "cell_type": "code",
   "execution_count": null,
   "metadata": {},
   "outputs": [],
   "source": [
    "# Два вектори розміром 7, заповнені довільними числами\n",
    "vector1 = np.random.rand(7)\n",
    "vector2 = np.random.rand(7)\n",
    "\n",
    "# Скалярний добуток\n",
    "dot_product = np.dot(vector1, vector2)\n",
    "\n",
    "print(f\"Vector 1: {vector1}\")\n",
    "print(f\"Vector 2: {vector2}\")\n",
    "print(f\"Dot product: {dot_product}\")"
   ]
  },
  {
   "cell_type": "code",
   "execution_count": null,
   "metadata": {},
   "outputs": [],
   "source": [
    "# Дві матриці розміром 2x2 та 2x3, заповнені випадковими цілими числами\n",
    "matrix_2x2 = np.random.randint(1, 11, (2, 2))\n",
    "matrix_2x3 = np.random.randint(1, 11, (2, 3))\n",
    "\n",
    "# Множення матриць\n",
    "dot_matrix = np.dot(matrix_2x2, matrix_2x3)\n",
    "\n",
    "print(f\"2x2 Matrix:\\n {matrix_2x2}\")\n",
    "print(f\"2x3 Matrix:\\n {matrix_2x3}\")\n",
    "print(f\"Dot Matrix:\\n {dot_matrix}\")"
   ]
  },
  {
   "cell_type": "code",
   "execution_count": null,
   "metadata": {},
   "outputs": [],
   "source": [
    "# Матриця розміром 3x3, заповнена випадковими цілими числами\n",
    "matrix_3x3 = np.random.randint(1, 11, (3, 3))\n",
    "\n",
    "# Обернена матриця\n",
    "inverse_matrix = np.linalg.inv(matrix_3x3)\n",
    "\n",
    "print(f\"3x3 Matrix:\\n {matrix_3x3}\")\n",
    "print(f\"Inverse Matrix:\\n {inverse_matrix}\")\n"
   ]
  },
  {
   "cell_type": "code",
   "execution_count": null,
   "metadata": {},
   "outputs": [],
   "source": [
    "# Матриця розміром 4x4, заповнена випадковими дійсними числами\n",
    "matrix_4x4 = np.random.rand(4, 4)\n",
    "\n",
    "# Транспонована матриця\n",
    "transposed_matrix = matrix_4x4.T\n",
    "\n",
    "print(f\"4x4 Matrix:\\n {matrix_4x4}\")\n",
    "print(f\"Transposed Matrix:\\n {transposed_matrix}\")"
   ]
  },
  {
   "cell_type": "code",
   "execution_count": null,
   "metadata": {},
   "outputs": [],
   "source": [
    "# Матриця розміром 3x4 та вектор розміром 4, заповнені випадковими цілими числами\n",
    "matrix_3x4 = np.random.randint(1, 11, (3, 4))\n",
    "vector_4 = np.random.randint(1, 11, 4)\n",
    "\n",
    "# Множення матриці на вектор\n",
    "dot_vector = np.dot(matrix_3x4, vector_4)\n",
    "\n",
    "print(f\"3x4 Matrix:\\n {matrix_3x4}\")\n",
    "print(f\"4-element Vector: {vector_4}\")\n",
    "print(f\"Dot Vector: {dot_vector}\")\n"
   ]
  },
  {
   "cell_type": "code",
   "execution_count": null,
   "metadata": {},
   "outputs": [],
   "source": [
    "# Матриця розміром 2x3 та вектор розміром 3, заповнені випадковими дійсними числами\n",
    "matrix_2x3 = np.random.rand(2, 3)\n",
    "vector_3 = np.random.rand(3)\n",
    "\n",
    "# Множення матриці на вектор\n",
    "dot_vector = np.dot(matrix_2x3, vector_3)\n",
    "\n",
    "print(f\"2x3 Matrix:\\n {matrix_2x3}\")\n",
    "print(f\"3-element Vector: {vector_3}\")\n",
    "print(f\"Dot Vector: {dot_vector}\")\n"
   ]
  },
  {
   "cell_type": "code",
   "execution_count": null,
   "metadata": {},
   "outputs": [],
   "source": [
    "# Дві матриці розміром 2x2, заповнені випадковими цілими числами\n",
    "matrix1_2x2 = np.random.randint(1, 11, (2, 2))\n",
    "matrix2_2x2 = np.random.randint(1, 11, (2, 2))\n",
    "\n",
    "# Поелементне множення\n",
    "elementwise = matrix1_2x2 * matrix2_2x2\n",
    "\n",
    "print(f\"Matrix 1:\\n {matrix1_2x2}\")\n",
    "print(f\"Matrix 2:\\n {matrix2_2x2}\")\n",
    "print(f\"Elementwise:\\n {elementwise}\")\n"
   ]
  },
  {
   "cell_type": "code",
   "execution_count": null,
   "metadata": {},
   "outputs": [],
   "source": [
    "# Дві матриці розміром 2x2, заповнені випадковими цілими числами\n",
    "matrix1_2x2 = np.random.randint(1, 11, (2, 2))\n",
    "matrix2_2x2 = np.random.randint(1, 11, (2, 2))\n",
    "\n",
    "# Добуток матриць\n",
    "dot_matrix = np.dot(matrix1_2x2, matrix2_2x2)\n",
    "\n",
    "print(f\"Matrix 1:\\n {matrix1_2x2}\")\n",
    "print(f\"Matrix 2:\\n {matrix2_2x2}\")\n",
    "print(f\"Dot Matrix:\\n {dot_matrix}\")\n"
   ]
  },
  {
   "cell_type": "code",
   "execution_count": null,
   "metadata": {},
   "outputs": [],
   "source": [
    "# Матриця розміром 5x5, заповнена випадковими цілими числами від 1 до 100\n",
    "matrix_5x5 = np.random.randint(1, 101, (5, 5))\n",
    "\n",
    "# Сума елементів матриці\n",
    "matrix_sum = np.sum(matrix_5x5)\n",
    "\n",
    "print(f\"5x5 Matrix:\\n {matrix_5x5}\")\n",
    "print(f\"Sum of elements: {matrix_sum}\")\n"
   ]
  },
  {
   "cell_type": "code",
   "execution_count": null,
   "metadata": {},
   "outputs": [],
   "source": [
    "# Дві матриці розміром 4x4, заповнені випадковими цілими числами\n",
    "matrix1_4x4 = np.random.randint(1, 11, (4, 4))\n",
    "matrix2_4x4 = np.random.randint(1, 11, (4, 4))\n",
    "\n",
    "# Різниця матриць\n",
    "matrix_difference = matrix1_4x4 - matrix2_4x4\n",
    "\n",
    "print(f\"Matrix 1:\\n {matrix1_4x4}\")\n",
    "print(f\"Matrix 2:\\n {matrix2_4x4}\")\n",
    "print(f\"Matrix Difference:\\n {matrix_difference}\")"
   ]
  },
  {
   "cell_type": "code",
   "execution_count": null,
   "metadata": {},
   "outputs": [],
   "source": [
    "# Матриця розміром 3x3, заповнена випадковими дійсними числами\n",
    "matrix_3x3 = np.random.rand(3, 3)\n",
    "\n",
    "# Вектор-стовпчик з сумою елементів кожного рядка\n",
    "row_sums = np.sum(matrix_3x3, axis=1).reshape(-1, 1)\n",
    "\n",
    "print(f\"3x3 Matrix:\\n {matrix_3x3}\")\n",
    "print(f\"Row sums:\\n {row_sums}\")\n"
   ]
  },
  {
   "cell_type": "code",
   "execution_count": null,
   "metadata": {},
   "outputs": [],
   "source": [
    "# Матриця розміром 3x4 з довільними цілими числами\n",
    "matrix_3x4 = np.random.randint(1, 11, (3, 4))\n",
    "\n",
    "# Матриця з квадратами цих чисел\n",
    "squared_matrix = np.square(matrix_3x4)\n",
    "\n",
    "print(f\"3x4 Matrix:\\n {matrix_3x4}\")\n",
    "print(f\"Squared Matrix:\\n {squared_matrix}\")\n"
   ]
  },
  {
   "cell_type": "code",
   "execution_count": null,
   "metadata": {},
   "outputs": [],
   "source": [
    "# Вектор розміром 4, заповнений випадковими цілими числами від 1 до 50\n",
    "vector_4 = np.random.randint(1, 51, 4)\n",
    "\n",
    "# Вектор з квадратними коренями цих чисел\n",
    "sqrt_vector = np.sqrt(vector_4)\n",
    "\n",
    "print(f\"Original Vector: {vector_4}\")\n",
    "print(f\"Square Root Vector: {sqrt_vector}\")\n"
   ]
  },
  {
   "cell_type": "markdown",
   "metadata": {},
   "source": [
    "ЗАВДАННЯ 2"
   ]
  },
  {
   "cell_type": "code",
   "execution_count": 3,
   "metadata": {},
   "outputs": [
    {
     "name": "stdout",
     "output_type": "stream",
     "text": [
      "[ 0 -1  2 -1  4 -1  6 -1  8 -1]\n"
     ]
    }
   ],
   "source": [
    "# Замінюємо усі непарні числа в arr на -1\n",
    "arr = np.array([0, 1, 2, 3, 4, 5, 6, 7, 8, 9])\n",
    "arr[arr % 2 != 0] = -1\n",
    "print(arr)"
   ]
  },
  {
   "cell_type": "code",
   "execution_count": 4,
   "metadata": {},
   "outputs": [
    {
     "name": "stdout",
     "output_type": "stream",
     "text": [
      "[[ 1  2  3  4  5]\n",
      " [ 6  7  8  9 10]]\n"
     ]
    }
   ],
   "source": [
    "# Створюємо та перетворюємо 1D-масив на 2D-масив із 2 рядками\n",
    "arr = np.arange(1, 11)\n",
    "arr_2d = arr.reshape(2, -1)\n",
    "print(arr_2d)"
   ]
  },
  {
   "cell_type": "code",
   "execution_count": null,
   "metadata": {},
   "outputs": [],
   "source": [
    "# Створіть два двовимірні масиви a і b, та складіть масиви їх вертикально\n",
    "a = np.random.randint(1, 10, (2, 3))\n",
    "b = np.random.randint(1, 10, (2, 3))\n",
    "c = np.vstack((a, b))\n",
    "print(c)"
   ]
  },
  {
   "cell_type": "code",
   "execution_count": 10,
   "metadata": {},
   "outputs": [
    {
     "data": {
      "text/plain": [
       "array([1, 1, 1, 2, 2, 2, 3, 3, 3])"
      ]
     },
     "execution_count": 10,
     "metadata": {},
     "output_type": "execute_result"
    }
   ],
   "source": [
    "# Input:a = np.array([1,2,3])\n",
    "# Output:array([1, 1, 1, 2, 2, 2, 3, 3, 3, 1, 2, 3, 1, 2, 3, 1, 2, 3])\n",
    "a = np.array([1, 2, 3])\n",
    "b = np.repeat(a, 3)\n",
    "c = np.tile(a, 3)\n",
    "output = np.concatenate((b, c))\n",
    "print(output)"
   ]
  },
  {
   "cell_type": "code",
   "execution_count": 12,
   "metadata": {},
   "outputs": [
    {
     "name": "stdout",
     "output_type": "stream",
     "text": [
      "[2 4]\n"
     ]
    }
   ],
   "source": [
    "# Спільні елементи між a і b\n",
    "a = np.array([1, 2, 3, 2, 3, 4, 3, 4, 5, 6])\n",
    "b = np.array([7, 2, 10, 2, 7, 4, 9, 4, 9, 8])\n",
    "common_elements = np.intersect1d(a, b)\n",
    "print(common_elements)"
   ]
  },
  {
   "cell_type": "code",
   "execution_count": 13,
   "metadata": {},
   "outputs": [
    {
     "name": "stdout",
     "output_type": "stream",
     "text": [
      "[15 10  3  7 18]\n"
     ]
    }
   ],
   "source": [
    "# Позиції перших 5 максимальних значень у заданому масиві\n",
    "np.random.seed(100)\n",
    "a = np.random.uniform(1, 50, 20)\n",
    "indices = np.argsort(a)[-5:][::-1]\n",
    "print(indices)"
   ]
  },
  {
   "cell_type": "code",
   "execution_count": 14,
   "metadata": {},
   "outputs": [
    {
     "name": "stdout",
     "output_type": "stream",
     "text": [
      "[1. 2. 3. 5. 6. 7.]\n"
     ]
    }
   ],
   "source": [
    "# Вилучіть усі значення NaN із одновимірного масиву\n",
    "a = np.array([1, 2, 3, np.nan, 5, 6, 7, np.nan])\n",
    "a_non_nan = a[~np.isnan(a)]\n",
    "print(a_non_nan)"
   ]
  },
  {
   "cell_type": "code",
   "execution_count": null,
   "metadata": {},
   "outputs": [],
   "source": [
    "# Евклідова відстань між двома масивами a і b\n",
    "a = np.array([1, 2, 3, 4, 5])\n",
    "b = np.array([4, 5, 6, 7, 8])\n",
    "euclidean_distance = np.linalg.norm(a - b)\n",
    "print(euclidean_distance)"
   ]
  },
  {
   "cell_type": "code",
   "execution_count": 15,
   "metadata": {},
   "outputs": [
    {
     "name": "stdout",
     "output_type": "stream",
     "text": [
      "8\n"
     ]
    }
   ],
   "source": [
    "# індекс 5-го повторення числа 1 у масиві x\n",
    "x = np.array([1, 2, 1, 1, 3, 4, 3, 1, 1, 2, 1, 1, 2])\n",
    "index_5th = np.where(x == 1)[0][4]\n",
    "print(index_5th)"
   ]
  }
 ],
 "metadata": {
  "kernelspec": {
   "display_name": "Python 3",
   "language": "python",
   "name": "python3"
  },
  "language_info": {
   "codemirror_mode": {
    "name": "ipython",
    "version": 3
   },
   "file_extension": ".py",
   "mimetype": "text/x-python",
   "name": "python",
   "nbconvert_exporter": "python",
   "pygments_lexer": "ipython3",
   "version": "3.12.3"
  }
 },
 "nbformat": 4,
 "nbformat_minor": 2
}
