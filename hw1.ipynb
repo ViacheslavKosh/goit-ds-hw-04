{
 "cells": [
  {
   "cell_type": "code",
   "execution_count": 2,
   "metadata": {},
   "outputs": [
    {
     "name": "stdout",
     "output_type": "stream",
     "text": [
      "[0. 1. 2. 3. 4. 5. 6. 7. 8. 9.]\n"
     ]
    }
   ],
   "source": [
    "import numpy as np\n",
    "\n",
    "# Одновимірний масив з першими 10-ма натуральними числами\n",
    "vector = np.array([0, 1, 2, 3, 4, 5, 6, 7, 8, 9], dtype=float)\n",
    "print(vector)"
   ]
  },
  {
   "cell_type": "code",
   "execution_count": 4,
   "metadata": {},
   "outputs": [
    {
     "name": "stdout",
     "output_type": "stream",
     "text": [
      "[[0 0 0]\n",
      " [0 0 0]\n",
      " [0 0 0]]\n"
     ]
    }
   ],
   "source": [
    "# Lвовимірний масив (матрицю) розміром 3x3, заповнений нулями.\n",
    "zero_matrix = np.array([[0, 0, 0], [0, 0, 0], [0, 0, 0]], dtype=int)\n",
    "\n",
    "print(zero_matrix)\n"
   ]
  },
  {
   "cell_type": "code",
   "execution_count": 5,
   "metadata": {},
   "outputs": [
    {
     "name": "stdout",
     "output_type": "stream",
     "text": [
      "[[ 2  9  1  3  6]\n",
      " [ 5 10  5  8  4]\n",
      " [ 2  1  8  9  6]\n",
      " [ 5  8  1  4  9]\n",
      " [ 6  5  5  5  2]]\n"
     ]
    }
   ],
   "source": [
    "random_matrix_5x5 = np.random.randint(1, 11, size=(5, 5))\n",
    "\n",
    "print(random_matrix_5x5)"
   ]
  }
 ],
 "metadata": {
  "kernelspec": {
   "display_name": "Python 3",
   "language": "python",
   "name": "python3"
  },
  "language_info": {
   "codemirror_mode": {
    "name": "ipython",
    "version": 3
   },
   "file_extension": ".py",
   "mimetype": "text/x-python",
   "name": "python",
   "nbconvert_exporter": "python",
   "pygments_lexer": "ipython3",
   "version": "3.12.3"
  }
 },
 "nbformat": 4,
 "nbformat_minor": 2
}
